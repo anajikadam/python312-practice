{
 "cells": [
  {
   "cell_type": "code",
   "execution_count": null,
   "metadata": {},
   "outputs": [],
   "source": [
    "!python --version"
   ]
  },
  {
   "cell_type": "markdown",
   "metadata": {},
   "source": [
    "https://docs.python.org/3.12/whatsnew/3.12.html"
   ]
  },
  {
   "cell_type": "markdown",
   "metadata": {},
   "source": [
    "PEP 701: Syntactic formalization of f-strings"
   ]
  },
  {
   "cell_type": "code",
   "execution_count": null,
   "metadata": {},
   "outputs": [],
   "source": [
    "songs = ['Song A', 'Song B', 'Song C']\n",
    "\n",
    "nested_f_string = f\"The Playlist: {f'{\", \".join(songs)}'}\"\n",
    "print(nested_f_string)  # prints The Playlist: Song A, Song B, Song C"
   ]
  },
  {
   "cell_type": "code",
   "execution_count": null,
   "metadata": {},
   "outputs": [],
   "source": [
    "\", \".join(songs)"
   ]
  },
  {
   "cell_type": "code",
   "execution_count": null,
   "metadata": {},
   "outputs": [],
   "source": []
  },
  {
   "cell_type": "markdown",
   "metadata": {},
   "source": [
    "Improved Error Messages"
   ]
  },
  {
   "cell_type": "code",
   "execution_count": null,
   "metadata": {},
   "outputs": [],
   "source": [
    "sys.version_info\n",
    "\n",
    "\"\"\"\n",
    "Traceback (most recent call last):\n",
    "  File \"<stdin>\", line 1, in <module>\n",
    "NameError: name 'sys' is not defined. Did you forget to import 'sys'?\n",
    "\"\"\""
   ]
  },
  {
   "cell_type": "markdown",
   "metadata": {},
   "source": [
    "PEP 692: Using TypedDict for More Precise kwargs Typing"
   ]
  },
  {
   "cell_type": "code",
   "execution_count": null,
   "metadata": {},
   "outputs": [],
   "source": [
    "from typing import TypedDict, Unpack"
   ]
  },
  {
   "cell_type": "code",
   "execution_count": null,
   "metadata": {},
   "outputs": [],
   "source": [
    "class Person(TypedDict):\n",
    "    firstName: str\n",
    "    lastName: str\n",
    "\n",
    "\n",
    "#def displayPerson(**kwargs: str):\n",
    "def displayPerson(**kwargs: Unpack[Person]):\n",
    "    print(f\"First Name: {kwargs['firstName']}, Last Name: {kwargs['lastName']}\")\n",
    "\n",
    "displayPerson(firstName=\"John\", lastName=\"Doe\")"
   ]
  },
  {
   "cell_type": "code",
   "execution_count": null,
   "metadata": {},
   "outputs": [],
   "source": [
    "\n",
    "\n",
    "class Person(TypedDict):\n",
    "    firstName: str\n",
    "    lastName: str\n",
    "\n",
    "\n",
    "def displayPerson(**ab: Unpack[Person]):\n",
    "    print(f\"First Name: {ab['firstName']}, Last Name: {ab['lastName']}\")\n",
    "\n",
    "displayPerson(firstName=\"John\", lastName=\"Doe\")\n"
   ]
  },
  {
   "cell_type": "markdown",
   "metadata": {},
   "source": [
    "SyntaxWarning for Invalid Escape Sequences"
   ]
  },
  {
   "cell_type": "code",
   "execution_count": null,
   "metadata": {},
   "outputs": [],
   "source": [
    "try:\n",
    "    invalid_string = \"John \\Doe\"\n",
    "except SyntaxWarning as e:\n",
    "    print(e) "
   ]
  },
  {
   "cell_type": "markdown",
   "metadata": {},
   "source": [
    "709: Comprehension Inlining"
   ]
  },
  {
   "cell_type": "code",
   "execution_count": null,
   "metadata": {},
   "outputs": [],
   "source": [
    "names = ['John', 'Jane', 'Doe']\n",
    "uppercase_names = [name.upper() for name in names]\n",
    "print(uppercase_names) "
   ]
  },
  {
   "cell_type": "markdown",
   "metadata": {},
   "source": [
    "# Hashable Slice Objects"
   ]
  },
  {
   "cell_type": "code",
   "execution_count": null,
   "metadata": {},
   "outputs": [],
   "source": [
    "liste = [0, 1, 2, 3, 4, 5, 6, 7, 8, 9]\n",
    "s = slice(1, 8, 2)  \n",
    "print(liste[s])\n"
   ]
  },
  {
   "cell_type": "code",
   "execution_count": null,
   "metadata": {},
   "outputs": [],
   "source": [
    "# John Doe can now use slice objects as keys in a dictionary\n",
    "# Immutability: slice are Immutable\n",
    "slices_dict = {slice(1, 5): \"John\", slice(6, 10): \"Doe\"}\n",
    "print(slices_dict[slice(1, 5)])  # prints \"John\""
   ]
  },
  {
   "cell_type": "markdown",
   "metadata": {},
   "source": [
    "PEP 695: Type Parameter Syntax"
   ]
  },
  {
   "cell_type": "code",
   "execution_count": null,
   "metadata": {},
   "outputs": [],
   "source": [
    "from typing import Union, Iterable\n",
    "\n",
    "def union_max(args: Iterable[Union[str, int, float]]) -> Union[str, int, float]:\n",
    "    return max(args)\n",
    "\n",
    "print(union_max([1, 2, 3, 4])) \n",
    "print(union_max([1.1, 2.2, 3.3, 4.4]))  \n",
    "print(union_max([\"apple\", \"banana\", \"cherry\"]))  "
   ]
  },
  {
   "cell_type": "markdown",
   "metadata": {},
   "source": [
    "Variables in target comprehensions"
   ]
  },
  {
   "cell_type": "code",
   "execution_count": null,
   "metadata": {},
   "outputs": [],
   "source": [
    "temp = [(x, x * 2) for x in range(5)]\n",
    "print(temp)\n",
    "result = [y for x, y in temp if y > 5]\n",
    "idx = [x for x, y in temp if y > 5]\n",
    "print(result)\n",
    "print(idx)"
   ]
  },
  {
   "cell_type": "code",
   "execution_count": null,
   "metadata": {},
   "outputs": [],
   "source": [
    "result = [(x,y) for x in range(5) if (y:= x*2)>5]\n",
    "print(result)"
   ]
  },
  {
   "cell_type": "markdown",
   "metadata": {},
   "source": [
    "Generics"
   ]
  },
  {
   "cell_type": "code",
   "execution_count": null,
   "metadata": {},
   "outputs": [],
   "source": [
    "from typing import TypeVar, Iterable\n",
    "\n",
    "T = TypeVar('T')\n",
    "\n",
    "def generic_max(args: Iterable[T]) -> T:\n",
    "    return max(args)\n",
    "\n",
    "print(generic_max([1, 2, 3, 4])) \n",
    "print(generic_max([1.1, 2.2, 3.3, 4.4]))  \n",
    "print(generic_max([\"apple\", \"banana\", \"cherry\"]))  "
   ]
  },
  {
   "cell_type": "code",
   "execution_count": null,
   "metadata": {},
   "outputs": [],
   "source": [
    "from typing import Iterable\n",
    "\n",
    "def generic_max[T](args: Iterable[T]) -> T:\n",
    "    return max(args)\n",
    "\n",
    "print(generic_max([1, 2, 3, 4])) \n",
    "print(generic_max([1.1, 2.2, 3.3, 4.4]))  \n",
    "print(generic_max([\"apple\", \"banana\", \"cherry\"]))  "
   ]
  },
  {
   "cell_type": "markdown",
   "metadata": {},
   "source": [
    "# PEP 698: Override Decorator for Static Typing"
   ]
  },
  {
   "cell_type": "code",
   "execution_count": null,
   "metadata": {},
   "outputs": [],
   "source": [
    "from typing import override\n",
    "\n",
    "class Animal:\n",
    "    def make_sound(self) -> str:\n",
    "        return \"some sound\"\n",
    "\n",
    "class Dog(Animal):\n",
    "    @override  # ok: overrides Animal.make_sound\n",
    "    def make_sound(self) -> str:\n",
    "        return \"bark\"\n",
    "\n",
    "class Cat(Animal):\n",
    "    @override  # Type checker error: does not override Animal.make_sound\n",
    "    def make_noise(self) -> str:\n",
    "        return \"meow\"\n",
    "    \n"
   ]
  },
  {
   "cell_type": "code",
   "execution_count": null,
   "metadata": {},
   "outputs": [],
   "source": [
    "import builtins"
   ]
  },
  {
   "cell_type": "code",
   "execution_count": null,
   "metadata": {},
   "outputs": [],
   "source": [
    "print(dir(builtins))"
   ]
  },
  {
   "cell_type": "code",
   "execution_count": null,
   "metadata": {},
   "outputs": [],
   "source": [
    "\"print\" in dir(builtins)"
   ]
  },
  {
   "cell_type": "code",
   "execution_count": null,
   "metadata": {},
   "outputs": [],
   "source": [
    "import math\n",
    "math.pi"
   ]
  },
  {
   "cell_type": "code",
   "execution_count": null,
   "metadata": {},
   "outputs": [],
   "source": [
    "import sklearn"
   ]
  },
  {
   "cell_type": "code",
   "execution_count": null,
   "metadata": {},
   "outputs": [],
   "source": [
    "os.listdir()"
   ]
  },
  {
   "cell_type": "code",
   "execution_count": null,
   "metadata": {},
   "outputs": [],
   "source": [
    "import os\n",
    "print( dir(os) )"
   ]
  },
  {
   "cell_type": "code",
   "execution_count": null,
   "metadata": {},
   "outputs": [],
   "source": [
    "import cos from math"
   ]
  },
  {
   "cell_type": "code",
   "execution_count": null,
   "metadata": {},
   "outputs": [],
   "source": [
    "from math import cos"
   ]
  },
  {
   "cell_type": "markdown",
   "metadata": {},
   "source": [
    "Python match statements were introduced in <python 3.10"
   ]
  },
  {
   "cell_type": "code",
   "execution_count": null,
   "metadata": {},
   "outputs": [],
   "source": [
    "parameter = \"Geeksforgeeks\"\n",
    "\n",
    "match parameter:\n",
    "\n",
    "\tcase first : \n",
    "\t\tdo_something(first)\n",
    "\t\n",
    "\tcase second : \n",
    "\t\tdo_something(second)\n",
    "\t\t\n",
    "\tcase third : \n",
    "\t\tdo_something(third)\n",
    "\tcase n :\n",
    "\t\tdo_something(n)\n",
    "\tcase _ : \n",
    "\t\tnothing_matched_function()\n",
    "\t\t\n"
   ]
  },
  {
   "cell_type": "code",
   "execution_count": 42,
   "metadata": {},
   "outputs": [
    {
     "name": "stdout",
     "output_type": "stream",
     "text": [
      "Write your username -: om\n",
      "You do not have any access to the code\n",
      "Write your username -: Om\n",
      "Om do not have access to the database \t\t\tonly for the api code.\n",
      "Write your username -: sagar\n",
      "You do not have any access to the code\n"
     ]
    }
   ],
   "source": [
    "def provideAccess(user):\n",
    "\treturn {\n",
    "\t\t\"username\": user,\n",
    "\t\t\"password\": \"admin\"\n",
    "\t}\n",
    "\n",
    "\n",
    "def runMatch():\n",
    "\tuser = str(input(\"Write your username -: \"))\n",
    "\n",
    "\t# match statement starts here .\n",
    "\tmatch user:\n",
    "\t\tcase \"Om\":\n",
    "\t\t\tprint(\"Om do not have access to the database \\\n",
    "\t\t\tonly for the api code.\")\n",
    "\t\tcase \"Vishal\":\n",
    "\t\t\tprint(\n",
    "\t\t\t\t\"Vishal do not have access to the database , \\\n",
    "\t\t\t\tonly for the frontend code.\")\n",
    "\n",
    "\t\tcase \"Rishabh\":\n",
    "\t\t\tprint(\"Rishabh have the access to the database\")\n",
    "\t\t\tprint(provideAccess(\"Rishabh\"))\n",
    "\n",
    "\t\tcase _:\n",
    "\t\t\tprint(\"You do not have any access to the code\")\n",
    "\n",
    "\n",
    "if __name__ == \"__main__\":\n",
    "\tfor _ in range(3):\n",
    "\t\trunMatch()\n"
   ]
  },
  {
   "cell_type": "code",
   "execution_count": null,
   "metadata": {},
   "outputs": [],
   "source": []
  },
  {
   "cell_type": "code",
   "execution_count": null,
   "metadata": {},
   "outputs": [],
   "source": []
  },
  {
   "cell_type": "code",
   "execution_count": null,
   "metadata": {},
   "outputs": [],
   "source": []
  },
  {
   "cell_type": "code",
   "execution_count": null,
   "metadata": {},
   "outputs": [],
   "source": []
  },
  {
   "cell_type": "markdown",
   "metadata": {},
   "source": [
    "Interpretes module: Will be available in Python 3.13!"
   ]
  },
  {
   "cell_type": "code",
   "execution_count": null,
   "metadata": {},
   "outputs": [],
   "source": [
    "/* C Code */\n",
    "\n",
    "PyInterpreterConfig config = {\n",
    "    .check_multi_interp_extensions = 1,\n",
    "    .gil = PyInterpreterConfig_OWN_GIL,\n",
    "};\n",
    "PyThreadState *tstate = NULL;\n",
    "PyStatus status = Py_NewInterpreterFromConfig(&tstate, &config);\n",
    "if (PyStatus_Exception(status)) {\n",
    "    return -1;\n",
    "}\n",
    "/* The new interpeter is now active in the current thread. */"
   ]
  },
  {
   "cell_type": "code",
   "execution_count": null,
   "metadata": {},
   "outputs": [],
   "source": [
    "import interpreters\n",
    "\n",
    "# Creating a new interpreter\n",
    "interp = interpreters.create()\n",
    "\n",
    "# Running code in the interpreter\n",
    "print('before')\n",
    "interp.run('print(\"during\")')\n",
    "print('after')\n",
    "\n",
    "# Finalizing and destroying the interpreter\n",
    "interp.close()"
   ]
  },
  {
   "cell_type": "code",
   "execution_count": null,
   "metadata": {},
   "outputs": [],
   "source": [
    "import threading\n",
    "\n",
    "interp = interpreters.create()\n",
    "\n",
    "def run():\n",
    "    interp.run('print(\"during\")')\n",
    "\n",
    "t = threading.Thread(target=run)\n",
    "print('before')\n",
    "t.start()\n",
    "t.join()\n",
    "print('after')\n"
   ]
  }
 ],
 "metadata": {
  "kernelspec": {
   "display_name": "Venv312",
   "language": "python",
   "name": "venv312"
  },
  "language_info": {
   "codemirror_mode": {
    "name": "ipython",
    "version": 3
   },
   "file_extension": ".py",
   "mimetype": "text/x-python",
   "name": "python",
   "nbconvert_exporter": "python",
   "pygments_lexer": "ipython3",
   "version": "3.12.0"
  }
 },
 "nbformat": 4,
 "nbformat_minor": 2
}
